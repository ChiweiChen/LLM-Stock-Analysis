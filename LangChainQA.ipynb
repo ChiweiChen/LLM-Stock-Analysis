{
  "cells": [
    {
      "cell_type": "markdown",
      "metadata": {
        "id": "0m006lg2aBlo"
      },
      "source": [
        "LangChain Annual Report Analysis"
      ]
    },
    {
      "cell_type": "code",
      "execution_count": 1,
      "metadata": {
        "id": "DMJyrZh6Z89A"
      },
      "outputs": [],
      "source": [
        "import requests\n",
        "from bs4 import BeautifulSoup"
      ]
    },
    {
      "cell_type": "code",
      "execution_count": 2,
      "metadata": {
        "id": "RswezCvohjXv"
      },
      "outputs": [],
      "source": [
        "def annual_report(id,y):\n",
        "  url = 'https://doc.twse.com.tw/server-java/t57sb01'\n",
        "  #Input for POST REQUEST\n",
        "  data = {\n",
        "      \"id\":\"\",\n",
        "      \"key\":\"\",\n",
        "      \"step\":\"1\",\n",
        "      \"co_id\":id,\n",
        "      \"year\":y,\n",
        "      \"seamon\":\"\",\n",
        "      \"mtype\":'F',\n",
        "      \"dtype\":'F04'\n",
        "  }\n",
        "  try:\n",
        "    response = requests.post(url, data=data)\n",
        "    #Extract file name\n",
        "    link=BeautifulSoup(response.text, 'html.parser')\n",
        "    link1=link.find('a').text\n",
        "    print(link1)\n",
        "  except Exception as e:\n",
        "    print(f\"發生{e}錯誤\")\n",
        "  #2nd POST request\n",
        "  data2 = {\n",
        "      'step':'9',\n",
        "      'kind':'F',\n",
        "      'co_id':id,\n",
        "      'filename':link1\n",
        "  }\n",
        "  try:\n",
        "    response = requests.post(url, data=data2)\n",
        "    link=BeautifulSoup(response.text, 'html.parser')\n",
        "    link1=link.find('a')\n",
        "    #Get link for PDF\n",
        "    link2 = link1.get('href')\n",
        "    print(link2)\n",
        "  except Exception as e:\n",
        "    print(f\"發生{e}錯誤\")\n",
        "  try:\n",
        "    response = requests.get('https://doc.twse.com.tw' + link2)\n",
        "    \n",
        "    with open(y + '_' + id + '.pdf', 'wb') as file:\n",
        "        file.write(response.content)\n",
        "    print('OK')\n",
        "  except Exception as e:\n",
        "    print(f\"發生{e}錯誤\")"
      ]
    },
    {
      "cell_type": "code",
      "execution_count": 3,
      "metadata": {
        "colab": {
          "base_uri": "https://localhost:8080/"
        },
        "id": "IhWwMVnSNnCW",
        "outputId": "a1830028-edba-4759-838c-800b5157c516"
      },
      "outputs": [
        {
          "name": "stdout",
          "output_type": "stream",
          "text": [
            "2022_2330_20230606F04.pdf\n",
            "/pdf/2022_2330_20230606F04_20240303_123547.pdf\n",
            "OK\n"
          ]
        }
      ],
      "source": [
        "annual_report('2330','112')"
      ]
    },
    {
      "cell_type": "code",
      "execution_count": null,
      "metadata": {
        "colab": {
          "base_uri": "https://localhost:8080/"
        },
        "id": "kUn2DtL56u-K",
        "outputId": "952f416c-4230-4b1b-8158-0ab6bc726cb7"
      },
      "outputs": [
        {
          "name": "stdout",
          "output_type": "stream",
          "text": [
            "Requirement already satisfied: langchain in /usr/local/lib/python3.10/dist-packages (0.0.335)\n",
            "Requirement already satisfied: openai in /usr/local/lib/python3.10/dist-packages (1.2.3)\n",
            "Requirement already satisfied: tiktoken in /usr/local/lib/python3.10/dist-packages (0.5.1)\n",
            "Requirement already satisfied: pdfplumber==0.10.2 in /usr/local/lib/python3.10/dist-packages (0.10.2)\n",
            "Requirement already satisfied: faiss-cpu in /usr/local/lib/python3.10/dist-packages (1.7.4)\n",
            "Requirement already satisfied: pdfminer.six==20221105 in /usr/local/lib/python3.10/dist-packages (from pdfplumber==0.10.2) (20221105)\n",
            "Requirement already satisfied: Pillow>=9.1 in /usr/local/lib/python3.10/dist-packages (from pdfplumber==0.10.2) (9.4.0)\n",
            "Requirement already satisfied: pypdfium2>=4.18.0 in /usr/local/lib/python3.10/dist-packages (from pdfplumber==0.10.2) (4.24.0)\n",
            "Requirement already satisfied: charset-normalizer>=2.0.0 in /usr/local/lib/python3.10/dist-packages (from pdfminer.six==20221105->pdfplumber==0.10.2) (3.3.2)\n",
            "Requirement already satisfied: cryptography>=36.0.0 in /usr/local/lib/python3.10/dist-packages (from pdfminer.six==20221105->pdfplumber==0.10.2) (41.0.5)\n",
            "Requirement already satisfied: PyYAML>=5.3 in /usr/local/lib/python3.10/dist-packages (from langchain) (6.0.1)\n",
            "Requirement already satisfied: SQLAlchemy<3,>=1.4 in /usr/local/lib/python3.10/dist-packages (from langchain) (2.0.23)\n",
            "Requirement already satisfied: aiohttp<4.0.0,>=3.8.3 in /usr/local/lib/python3.10/dist-packages (from langchain) (3.8.6)\n",
            "Requirement already satisfied: anyio<4.0 in /usr/local/lib/python3.10/dist-packages (from langchain) (3.7.1)\n",
            "Requirement already satisfied: async-timeout<5.0.0,>=4.0.0 in /usr/local/lib/python3.10/dist-packages (from langchain) (4.0.3)\n",
            "Requirement already satisfied: dataclasses-json<0.7,>=0.5.7 in /usr/local/lib/python3.10/dist-packages (from langchain) (0.6.2)\n",
            "Requirement already satisfied: jsonpatch<2.0,>=1.33 in /usr/local/lib/python3.10/dist-packages (from langchain) (1.33)\n",
            "Requirement already satisfied: langsmith<0.1.0,>=0.0.63 in /usr/local/lib/python3.10/dist-packages (from langchain) (0.0.63)\n",
            "Requirement already satisfied: numpy<2,>=1 in /usr/local/lib/python3.10/dist-packages (from langchain) (1.23.5)\n",
            "Requirement already satisfied: pydantic<3,>=1 in /usr/local/lib/python3.10/dist-packages (from langchain) (1.10.13)\n",
            "Requirement already satisfied: requests<3,>=2 in /usr/local/lib/python3.10/dist-packages (from langchain) (2.31.0)\n",
            "Requirement already satisfied: tenacity<9.0.0,>=8.1.0 in /usr/local/lib/python3.10/dist-packages (from langchain) (8.2.3)\n",
            "Requirement already satisfied: distro<2,>=1.7.0 in /usr/lib/python3/dist-packages (from openai) (1.7.0)\n",
            "Requirement already satisfied: httpx<1,>=0.23.0 in /usr/local/lib/python3.10/dist-packages (from openai) (0.25.1)\n",
            "Requirement already satisfied: tqdm>4 in /usr/local/lib/python3.10/dist-packages (from openai) (4.66.1)\n",
            "Requirement already satisfied: typing-extensions<5,>=4.5 in /usr/local/lib/python3.10/dist-packages (from openai) (4.5.0)\n",
            "Requirement already satisfied: regex>=2022.1.18 in /usr/local/lib/python3.10/dist-packages (from tiktoken) (2023.6.3)\n",
            "Requirement already satisfied: attrs>=17.3.0 in /usr/local/lib/python3.10/dist-packages (from aiohttp<4.0.0,>=3.8.3->langchain) (23.1.0)\n",
            "Requirement already satisfied: multidict<7.0,>=4.5 in /usr/local/lib/python3.10/dist-packages (from aiohttp<4.0.0,>=3.8.3->langchain) (6.0.4)\n",
            "Requirement already satisfied: yarl<2.0,>=1.0 in /usr/local/lib/python3.10/dist-packages (from aiohttp<4.0.0,>=3.8.3->langchain) (1.9.2)\n",
            "Requirement already satisfied: frozenlist>=1.1.1 in /usr/local/lib/python3.10/dist-packages (from aiohttp<4.0.0,>=3.8.3->langchain) (1.4.0)\n",
            "Requirement already satisfied: aiosignal>=1.1.2 in /usr/local/lib/python3.10/dist-packages (from aiohttp<4.0.0,>=3.8.3->langchain) (1.3.1)\n",
            "Requirement already satisfied: idna>=2.8 in /usr/local/lib/python3.10/dist-packages (from anyio<4.0->langchain) (3.4)\n",
            "Requirement already satisfied: sniffio>=1.1 in /usr/local/lib/python3.10/dist-packages (from anyio<4.0->langchain) (1.3.0)\n",
            "Requirement already satisfied: exceptiongroup in /usr/local/lib/python3.10/dist-packages (from anyio<4.0->langchain) (1.1.3)\n",
            "Requirement already satisfied: marshmallow<4.0.0,>=3.18.0 in /usr/local/lib/python3.10/dist-packages (from dataclasses-json<0.7,>=0.5.7->langchain) (3.20.1)\n",
            "Requirement already satisfied: typing-inspect<1,>=0.4.0 in /usr/local/lib/python3.10/dist-packages (from dataclasses-json<0.7,>=0.5.7->langchain) (0.9.0)\n",
            "Requirement already satisfied: certifi in /usr/local/lib/python3.10/dist-packages (from httpx<1,>=0.23.0->openai) (2023.7.22)\n",
            "Requirement already satisfied: httpcore in /usr/local/lib/python3.10/dist-packages (from httpx<1,>=0.23.0->openai) (1.0.2)\n",
            "Requirement already satisfied: jsonpointer>=1.9 in /usr/local/lib/python3.10/dist-packages (from jsonpatch<2.0,>=1.33->langchain) (2.4)\n",
            "Requirement already satisfied: urllib3<3,>=1.21.1 in /usr/local/lib/python3.10/dist-packages (from requests<3,>=2->langchain) (2.0.7)\n",
            "Requirement already satisfied: greenlet!=0.4.17 in /usr/local/lib/python3.10/dist-packages (from SQLAlchemy<3,>=1.4->langchain) (3.0.1)\n",
            "Requirement already satisfied: cffi>=1.12 in /usr/local/lib/python3.10/dist-packages (from cryptography>=36.0.0->pdfminer.six==20221105->pdfplumber==0.10.2) (1.16.0)\n",
            "Requirement already satisfied: packaging>=17.0 in /usr/local/lib/python3.10/dist-packages (from marshmallow<4.0.0,>=3.18.0->dataclasses-json<0.7,>=0.5.7->langchain) (23.2)\n",
            "Requirement already satisfied: mypy-extensions>=0.3.0 in /usr/local/lib/python3.10/dist-packages (from typing-inspect<1,>=0.4.0->dataclasses-json<0.7,>=0.5.7->langchain) (1.0.0)\n",
            "Requirement already satisfied: h11<0.15,>=0.13 in /usr/local/lib/python3.10/dist-packages (from httpcore->httpx<1,>=0.23.0->openai) (0.14.0)\n",
            "Requirement already satisfied: pycparser in /usr/local/lib/python3.10/dist-packages (from cffi>=1.12->cryptography>=36.0.0->pdfminer.six==20221105->pdfplumber==0.10.2) (2.21)\n"
          ]
        }
      ],
      "source": [
        "!pip install langchain openai tiktoken pdfplumber==0.10.2 faiss-cpu"
      ]
    },
    {
      "cell_type": "code",
      "execution_count": null,
      "metadata": {
        "id": "G4fv5tYU60ux"
      },
      "outputs": [],
      "source": [
        "import os\n",
        "import getpass\n",
        "from langchain.document_loaders import PDFPlumberLoader\n",
        "from langchain.text_splitter import RecursiveCharacterTextSplitter\n",
        "from langchain.embeddings import OpenAIEmbeddings\n",
        "from langchain.vectorstores import FAISS\n",
        "from langchain.chat_models import ChatOpenAI"
      ]
    },
    {
      "cell_type": "code",
      "execution_count": null,
      "metadata": {
        "colab": {
          "base_uri": "https://localhost:8080/"
        },
        "id": "UNjmx9zCGEV9",
        "outputId": "d48e22c4-3c1b-4900-8e46-6512c1b0b88a"
      },
      "outputs": [
        {
          "name": "stdout",
          "output_type": "stream",
          "text": [
            "OpenAI API Key:··········\n"
          ]
        }
      ],
      "source": [
        "os.environ['OPENAI_API_KEY'] = getpass.getpass('OpenAI API Key:')\n",
        "llm_16k = ChatOpenAI(model=\"gpt-3.5-turbo-1106\")"
      ]
    },
    {
      "cell_type": "code",
      "execution_count": null,
      "metadata": {
        "id": "vpsrgVqTPsNn"
      },
      "outputs": [],
      "source": [
        "#Function for building vector database\n",
        "def pdf_loader(file,size,overlap):\n",
        "  loader = PDFPlumberLoader(file)\n",
        "  doc = loader.load()\n",
        "  text_splitter = RecursiveCharacterTextSplitter(\n",
        "                          chunk_size=size,\n",
        "                          chunk_overlap=overlap)\n",
        "  new_doc = text_splitter.split_documents(doc)\n",
        "  db = FAISS.from_documents(new_doc, OpenAIEmbeddings())\n",
        "  return db"
      ]
    },
    {
      "cell_type": "code",
      "execution_count": null,
      "metadata": {
        "id": "Q4RxY2097irW"
      },
      "outputs": [],
      "source": [
        "db = pdf_loader('/content/112_2330.pdf',500,50)"
      ]
    },
    {
      "cell_type": "code",
      "execution_count": null,
      "metadata": {
        "colab": {
          "base_uri": "https://localhost:8080/"
        },
        "id": "iRF0tJ61U5hg",
        "outputId": "cdd0b85c-29d5-4f66-c91e-e4f20f9d2480"
      },
      "outputs": [
        {
          "name": "stdout",
          "output_type": "stream",
          "text": [
            "5.4.1 客戶\n",
            "提升同仁問題解決與創新的能力，以維持台積公司競爭\n",
            "優勢並達到客戶滿意的雙贏目標。除了公司內部跨組織 台積公司的客戶遍布全球，產品種類眾多，在半導 最近二年度佔全年度合併營業收入淨額10%以上之客戶資料\n",
            "的學習交流外，台積公司亦透過「台灣持續改善活動競 體產業的各個領域中表現傑出。客戶包括有無晶\n",
            "單位：新台幣仟元\n",
            "賽」，跨產業分享改善手法，期望能以台積公司的經驗分 圓廠設計公司、系統公司和整合元件製造商，例 民國111年 民國110年\n",
            "名稱\n",
            "享，促進其他在地產業的發展與進步，並藉由觀摩其他 如：Advanced Micro Devices, Inc.、Amazon Web 佔全年度營業收入 佔全年度營業收入\n",
            "金額 與發行人之關係 金額 與發行人之關係\n",
            "淨額比率（%） 淨額比率（%）\n",
            "產業的改善方法，提升同仁問題解決與創新能力。民國 Services, Inc.、Broadcom Inc.、Intel Corporation、聯\n",
            "甲客戶 529,649,200 23% 無 405,402,955 26% 無\n",
            "_________\n",
            "持其未來發展優勢。\n",
            "我們將持續致力於優化製造營運（包括「數位化」我們的晶圓廠）來提高效率和生產力，藉以支援民國一百一十\n",
            "二年與此後的N3高度量產。\n",
            "我們正在增加台灣以外的產能以擴大我們的未來成長潛力、接觸全球人才，並進一步提升客戶信任。隨著我們擴 劉德音 魏魏哲哲家家\n",
            "大全球足跡並在世界各地進行招募，我們的首要任務是識別、吸引和雇用與台積公司核心價值和原則相符的人 董事長 總裁\n",
            "才，讓我們無論在何處營運，都能夠於所有員工間建立台積公司文化。\n",
            "010 011\n",
            "_________\n",
            "能對台積公司的營運與財務表現產生負面影響。 台積公司的營運成長及產能的持續擴充計劃，仰賴來自 的營運成本，如果這些專利主張實體成功阻攔本公司所\n",
            "若台積公司無法克服上述挑戰，則可能對公司業務、財 市場中少數的供應商以得到充分的設備及相關服務，因 提供的產品及服務之交易，亦可能會嚴重干擾本公司的\n",
            "務狀況及經營結果造成負面影響。 採購集中之風險及因應措施 此可能面臨供應商供給有限且交貨期長的情況，為了優 營運。再者，隨著台積公司的製造營運擴大至部分國外區\n",
            "●\u0007原物料 化供應鏈管理，台積公司針對交貨前置期進行評估及預 域，本公司就智慧財產權被侵害之風險管理亦面臨更高\n",
            "銷售集中之風險及因應措施 台積公司需及時並以合理的市場價格獲得生產營運所需 測，以期能夠盡量降低供應鏈風險對營運成本的影響， 的挑戰。縱使本公司努力採取有力的措施以減輕在該等\n",
            "近年來，台積公司的客戶群與客戶的業務性質出現顯著 之足夠原物料，例如矽晶圓、製程用氣體、化學原料、光 台積公司也與各供應商持續擬定多項商務合作模式與 新區域內智慧財產權被侵害的風險，仍無法保證本公司\n",
            "_________\n"
          ]
        }
      ],
      "source": [
        "query = \"公司是否有明確的成長或創新策略?\"\n",
        "docs = db.similarity_search(query,k=3)\n",
        "for i in docs:\n",
        "    print(i.page_content)\n",
        "    print('_________')"
      ]
    },
    {
      "cell_type": "code",
      "execution_count": null,
      "metadata": {
        "id": "cnsilIt1JmDs"
      },
      "outputs": [],
      "source": [
        "from langchain.prompts import ChatPromptTemplate\n",
        "from langchain.chains import RetrievalQA"
      ]
    },
    {
      "cell_type": "code",
      "execution_count": null,
      "metadata": {
        "id": "idLyQ6lVFMUD"
      },
      "outputs": [],
      "source": [
        "prompt = ChatPromptTemplate.from_messages([\n",
        "    (\"system\",\n",
        "     \"你是一個根據年報資料與上下文作回答的助手,\"\n",
        "     \"如果有明確數據或技術(產品)名稱可以用數據或名稱回答,\"\n",
        "     \"回答以繁體中文和台灣用語為主。\"\n",
        "     \"{context}\"),\n",
        "    (\"human\",\"{question}\")])\n",
        "\n",
        "#simplified QA function\n",
        "def question_and_answer(question):\n",
        "    qa = RetrievalQA.from_llm(llm=llm_16k,\n",
        "                              prompt=prompt,\n",
        "                              return_source_documents=True,\n",
        "                              retriever=db.as_retriever(\n",
        "                                  search_kwargs={'k':10}))\n",
        "    result = qa(question)\n",
        "    return result"
      ]
    },
    {
      "cell_type": "code",
      "execution_count": null,
      "metadata": {
        "colab": {
          "base_uri": "https://localhost:8080/"
        },
        "id": "Xyejx1Ic8qQk",
        "outputId": "2b550940-d61d-42b5-e2d0-ebe56c3cef0f"
      },
      "outputs": [
        {
          "name": "stdout",
          "output_type": "stream",
          "text": [
            "輸入問題:公司是否有明確成長?\n",
            "根據年報中提到的資料，台積公司在民國一百一十一年的營業淨利增加了50%，稅後淨利增加了70.4%，營收增長了42.61%。這些數據顯示公司在該年度實現了明確的成長。此外，公司也提到正在擴大全球製造版圖以增加客戶信任和擴展未來的成長機會。\n",
            "_________\n",
            "輸入問題:公司未來一年的計畫\n",
            "根據所提供的資訊，目前年報並未提供公司未來一年的具體計畫。然而，根據上下文中的一些資訊，可以看出公司未來的一些重點方向和計畫:\n",
            "\n",
            "1. 優化製造營運：公司將致力於優化製造營運，包括數位化晶圓廠，以提高效率和生產力。\n",
            "\n",
            "2. 增加全球產能：公司將增加台灣以外地區的產能，以擴大未來的成長潛力，接觸全球人才，並提升客戶信任。\n",
            "\n",
            "3. 氣候變遷因應：公司將推動低碳製造，邁向淨零排放，並強化氣候韌性，評估重大氣候風險與機會對公司帶來的潛在營運與財務衝擊，並執行相關因應方案。\n",
            "\n",
            "4. 員工發展與健康：公司將持續關注員工發展，提供培訓課程、健康檢查等福利，並鼓勵員工參與運動活動，建立運動習慣。\n",
            "\n",
            "需要注意的是，以上僅為根據提供的片段資訊所推斷的一些可能性，具體的未來計畫還需要參考完整的年報資訊。\n",
            "_________\n",
            "輸入問題:\n"
          ]
        }
      ],
      "source": [
        "while True:\n",
        "    question = input(\"輸入問題:\")\n",
        "    if not question.strip():\n",
        "        break\n",
        "    result=question_and_answer(question)\n",
        "    print(result['result'])\n",
        "    print('_________')\n",
        "    #print(result[\"source_documents\"])"
      ]
    },
    {
      "cell_type": "code",
      "execution_count": null,
      "metadata": {
        "id": "o65edAvKXUH5"
      },
      "outputs": [],
      "source": [
        "from langchain.chains.summarize import load_summarize_chain"
      ]
    },
    {
      "cell_type": "code",
      "execution_count": null,
      "metadata": {
        "id": "37griuhHP0im"
      },
      "outputs": [],
      "source": [
        "key_word = ['有關市場策略的調整或變化有何提及？',\n",
        "          '公司對未來一年的展望是什麼？',\n",
        "          '公司的總收入是否增長，淨利潤的正負情況是否有變化？',\n",
        "          '國際競爭及海外市場情況',\n",
        "          '目前的研發狀況?']\n",
        "data_list = []\n",
        "\n",
        "#Compiling documents for reference data\n",
        "for word in key_word:\n",
        "    data = db.max_marginal_relevance_search(word)\n",
        "    data_list += data\n",
        "\n",
        "prompt_template = [(\"system\",\"你的任務是生成年報摘要。\"\n",
        "                \"我們提供年報{text}請你負責生成,\"\n",
        "                \"且要保留重點如營收漲跌、開發項目等,\"\n",
        "                \"最後請使用繁體中文輸出報告\")]\n",
        "prompt = ChatPromptTemplate.from_messages(messages=prompt_template)"
      ]
    },
    {
      "cell_type": "code",
      "execution_count": null,
      "metadata": {
        "colab": {
          "base_uri": "https://localhost:8080/"
        },
        "id": "l2XTY8L7Ppnc",
        "outputId": "1cc369e0-10de-49d7-f1a9-fae2bc599341"
      },
      "outputs": [
        {
          "name": "stdout",
          "output_type": "stream",
          "text": [
            "根據台積公司的年報，該公司在環境、社會、公司治理方面面臨了一些重大風險。其中包括對員工安全與健康工作環境的評估，環境管理制度的建立，以及市場風險和貿易風險的挑戰。此外，台積公司也積極致力於氣候變遷因應，推動低碳製造，並強化氣候韌性。\n",
            "\n",
            "在財務方面，台積公司在民國一百一十一年取得了良好的營業收入成長，稅後淨利也有顯著的增加。公司在全球市場上持續推進N3高度量產，並正積極擴大台灣以外的產能，以擴大未來的成長潛力。\n",
            "\n",
            "此外，台積公司也在開放創新平台上取得了一些重要的成就，包括推出N4X製程技術、推動智慧手機相機效能的開發，以及成功量產先進智慧手機相機感測器技術。\n",
            "\n",
            "在社會責任方面，台積公司持續進行多項社會公益活動，包括推動女性在科技領域中的發展、推廣孝道、以及與教育部合作推廣孝道意識。此外，公司也在環保、安全與健康管理方面獲得多項認證和獎項，展現了在永續發展方面的努力和成就。\n",
            "\n",
            "總的來說，台積公司在多個方面都取得了積極的成果，並且在面對各種風險挑戰時，都積極採取了應對措施，展現了強大的企業韌性和永續發展的決心。\n"
          ]
        }
      ],
      "source": [
        "chain_refine_16k = load_summarize_chain(llm=llm_16k,\n",
        "                                        chain_type='stuff',\n",
        "                                        prompt=prompt)\n",
        "print(chain_refine_16k.run(data_list))"
      ]
    },
    {
      "cell_type": "code",
      "execution_count": null,
      "metadata": {
        "colab": {
          "base_uri": "https://localhost:8080/"
        },
        "id": "zMeR0jjh2_5I",
        "outputId": "1cc6b7fb-62b6-4ece-ecac-0e8bed54880d"
      },
      "outputs": [
        {
          "data": {
            "text/plain": [
              "['成長', '利潤', '支出', '現金流量']"
            ]
          },
          "execution_count": 25,
          "metadata": {},
          "output_type": "execute_result"
        }
      ],
      "source": [
        "from langchain.chains import LLMChain\n",
        "from langchain.output_parsers import CommaSeparatedListOutputParser\n",
        "output_parser = CommaSeparatedListOutputParser()\n",
        "\n",
        "word_prompt=ChatPromptTemplate.from_messages(messages=[\n",
        "    (\"human\",\"從{input}聯想出4個與年報分析有關的重要關鍵字,\"\\\n",
        "     \"請確保回答具有具有關聯性、多樣性和變化性。 \\n \"\n",
        "     \"僅回覆關鍵字, 並以半形逗號與空格來分隔。不要加入其他內容\"\n",
        "    \"\")]\n",
        ")\n",
        "word_chain = LLMChain(llm=llm_16k, prompt=word_prompt)\n",
        "output_parser.parse(word_chain('公司的營收狀況如何？')['text'])"
      ]
    },
    {
      "cell_type": "code",
      "execution_count": null,
      "metadata": {
        "id": "y4nY5fkpVKlq"
      },
      "outputs": [],
      "source": [
        "data_prompt=ChatPromptTemplate.from_messages(messages=[\n",
        "    (\"system\",\"你現在是一位專業的股票分析師,\"\n",
        "    \"你會以詳細、嚴謹的角度進行年報分析, 針對{output}作分析並提及重要數字\\\n",
        "    ,然後生成一份專業的趨勢分析報告。\"),\n",
        "    (\"human\",\"{text}\")])\n",
        "data_chain = LLMChain(llm=llm_16k, prompt=data_prompt)"
      ]
    },
    {
      "cell_type": "code",
      "execution_count": null,
      "metadata": {
        "id": "YWKb8jEydsoN"
      },
      "outputs": [],
      "source": [
        "def analyze_chain(input):\n",
        "    #Search documents with maximum new information\n",
        "    data = db.max_marginal_relevance_search(input)\n",
        "\n",
        "    #Create keywords for search\n",
        "    word = word_chain(input)\n",
        "    word_list = output_parser.parse(word['text'])\n",
        "\n",
        "    for i in word_list:\n",
        "      data += db.max_marginal_relevance_search(i,k=2)\n",
        "    word_list.append(input)\n",
        "\n",
        "    result = data_chain({'output':word_list,'text':data})\n",
        "\n",
        "    return result['text']"
      ]
    },
    {
      "cell_type": "code",
      "execution_count": null,
      "metadata": {
        "colab": {
          "base_uri": "https://localhost:8080/"
        },
        "id": "e-NHDVzqHOsU",
        "outputId": "d09637fe-18f2-4cd1-bdfc-aeb265cda705"
      },
      "outputs": [
        {
          "name": "stdout",
          "output_type": "stream",
          "text": [
            "根據台積電的年報資訊，我們可以進行以下方面的分析:\n",
            "\n",
            "1. 成長：台積電在營業收入淨額增加方面表現出色，主要是由於本年度平均銷售單價提高、晶圓出貨量增加及受匯率變動增加所致。另外，營業費用的增加主要是由於研究發展費用增加所致。\n",
            "\n",
            "2. 利潤：營業毛利增加主要是平均銷售單價提高、有利的匯率變動及持續成本改善所致，部分受產能利用率下降所抵銷。營業淨利增加主要是因營業毛利增加所致。\n",
            "\n",
            "3. 現金流：台積電在現金流方面表現出色，全年來自營業活動的現金流入約15,594億，主要包含稅後淨利及折舊、攤銷費用。投資活動的現金流出約9,440億，主要用於資本支出。\n",
            "\n",
            "4. 市場份額：根據年報資訊，台積電持續精進互補式金氧半導體影像感測器技術，並且正在開發N6射頻技術，以支援車用電子應用，這將有助於增強在市場上的競爭力。\n",
            "\n",
            "5. 公司的營收狀況：台積電的營收狀況表現出穩健的成長趨勢，主要是由於產品技術的持續進步和市場需求的增加。\n",
            "\n",
            "總體而言，台積電在成長、利潤和現金流方面呈現穩健的發展趨勢，並且在技術創新和市場份額方面持續投入和努力。這些數字顯示了公司的業務穩健性和成長潛力。\n"
          ]
        }
      ],
      "source": [
        "input = '公司的營收狀況如何？'\n",
        "print(analyze_chain(input))"
      ]
    }
  ],
  "metadata": {
    "colab": {
      "provenance": []
    },
    "kernelspec": {
      "display_name": "Python 3",
      "name": "python3"
    },
    "language_info": {
      "codemirror_mode": {
        "name": "ipython",
        "version": 3
      },
      "file_extension": ".py",
      "mimetype": "text/x-python",
      "name": "python",
      "nbconvert_exporter": "python",
      "pygments_lexer": "ipython3",
      "version": "3.11.5"
    }
  },
  "nbformat": 4,
  "nbformat_minor": 0
}
